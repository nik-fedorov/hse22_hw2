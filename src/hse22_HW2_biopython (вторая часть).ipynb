{
  "nbformat": 4,
  "nbformat_minor": 0,
  "metadata": {
    "colab": {
      "provenance": [],
      "collapsed_sections": []
    },
    "kernelspec": {
      "name": "python3",
      "display_name": "Python 3"
    },
    "language_info": {
      "name": "python"
    }
  },
  "cells": [
    {
      "cell_type": "markdown",
      "source": [
        "# Скачиваем данные и устанавливаем программы"
      ],
      "metadata": {
        "id": "WJ71oQTxShEj"
      }
    },
    {
      "cell_type": "code",
      "source": [
        "!wget https://raw.githubusercontent.com/nik-fedorov/hse22_hw2/main/data/gms2.lst"
      ],
      "metadata": {
        "id": "fWSU9pxNTOSR",
        "colab": {
          "base_uri": "https://localhost:8080/"
        },
        "outputId": "9ac9e8f5-ab10-4df8-a4a5-8bb33af2e1b3"
      },
      "execution_count": 1,
      "outputs": [
        {
          "output_type": "stream",
          "name": "stdout",
          "text": [
            "--2022-10-19 15:46:42--  https://raw.githubusercontent.com/nik-fedorov/hse22_hw2/main/data/gms2.lst\n",
            "Resolving raw.githubusercontent.com (raw.githubusercontent.com)... 185.199.108.133, 185.199.109.133, 185.199.110.133, ...\n",
            "Connecting to raw.githubusercontent.com (raw.githubusercontent.com)|185.199.108.133|:443... connected.\n",
            "HTTP request sent, awaiting response... 200 OK\n",
            "Length: 221010 (216K) [text/plain]\n",
            "Saving to: ‘gms2.lst’\n",
            "\n",
            "gms2.lst            100%[===================>] 215.83K  --.-KB/s    in 0.01s   \n",
            "\n",
            "2022-10-19 15:46:42 (15.8 MB/s) - ‘gms2.lst’ saved [221010/221010]\n",
            "\n"
          ]
        }
      ]
    },
    {
      "cell_type": "code",
      "source": [
        "!wget https://raw.githubusercontent.com/nik-fedorov/hse22_hw2/main/data/scaffolds.fa"
      ],
      "metadata": {
        "id": "yWoD0myNTVi8",
        "colab": {
          "base_uri": "https://localhost:8080/"
        },
        "outputId": "a5a826ae-4529-4e07-ba9f-e40a90a0ad16"
      },
      "execution_count": 2,
      "outputs": [
        {
          "output_type": "stream",
          "name": "stdout",
          "text": [
            "--2022-10-19 15:46:45--  https://raw.githubusercontent.com/nik-fedorov/hse22_hw2/main/data/scaffolds.fa\n",
            "Resolving raw.githubusercontent.com (raw.githubusercontent.com)... 185.199.108.133, 185.199.109.133, 185.199.110.133, ...\n",
            "Connecting to raw.githubusercontent.com (raw.githubusercontent.com)|185.199.108.133|:443... connected.\n",
            "HTTP request sent, awaiting response... 200 OK\n",
            "Length: 3970902 (3.8M) [text/plain]\n",
            "Saving to: ‘scaffolds.fa’\n",
            "\n",
            "scaffolds.fa        100%[===================>]   3.79M  --.-KB/s    in 0.05s   \n",
            "\n",
            "2022-10-19 15:46:45 (78.3 MB/s) - ‘scaffolds.fa’ saved [3970902/3970902]\n",
            "\n"
          ]
        }
      ]
    },
    {
      "cell_type": "code",
      "source": [
        "!wget https://raw.githubusercontent.com/nik-fedorov/hse22_hw2/main/data/proteins.fasta"
      ],
      "metadata": {
        "id": "FkuulZekTbh9",
        "colab": {
          "base_uri": "https://localhost:8080/"
        },
        "outputId": "a4a17a7f-7b97-41b3-b5b8-83a16d65f7b8"
      },
      "execution_count": 3,
      "outputs": [
        {
          "output_type": "stream",
          "name": "stdout",
          "text": [
            "--2022-10-19 15:46:49--  https://raw.githubusercontent.com/nik-fedorov/hse22_hw2/main/data/proteins.fasta\n",
            "Resolving raw.githubusercontent.com (raw.githubusercontent.com)... 185.199.108.133, 185.199.109.133, 185.199.110.133, ...\n",
            "Connecting to raw.githubusercontent.com (raw.githubusercontent.com)|185.199.108.133|:443... connected.\n",
            "HTTP request sent, awaiting response... 200 OK\n",
            "Length: 1403693 (1.3M) [text/plain]\n",
            "Saving to: ‘proteins.fasta’\n",
            "\n",
            "proteins.fasta      100%[===================>]   1.34M  --.-KB/s    in 0.04s   \n",
            "\n",
            "2022-10-19 15:46:49 (37.9 MB/s) - ‘proteins.fasta’ saved [1403693/1403693]\n",
            "\n"
          ]
        }
      ]
    },
    {
      "cell_type": "code",
      "source": [
        "!wget https://raw.githubusercontent.com/nik-fedorov/hse22_hw2/main/data/scaffolds.hits_from_MIL_1.txt"
      ],
      "metadata": {
        "id": "wljcApdJTjGr",
        "colab": {
          "base_uri": "https://localhost:8080/"
        },
        "outputId": "2717e04a-d5ed-436b-e257-e7920b399356"
      },
      "execution_count": 4,
      "outputs": [
        {
          "output_type": "stream",
          "name": "stdout",
          "text": [
            "--2022-10-19 15:46:53--  https://raw.githubusercontent.com/nik-fedorov/hse22_hw2/main/data/scaffolds.hits_from_MIL_1.txt\n",
            "Resolving raw.githubusercontent.com (raw.githubusercontent.com)... 185.199.111.133, 185.199.108.133, 185.199.109.133, ...\n",
            "Connecting to raw.githubusercontent.com (raw.githubusercontent.com)|185.199.111.133|:443... connected.\n",
            "HTTP request sent, awaiting response... 200 OK\n",
            "Length: 868340 (848K) [text/plain]\n",
            "Saving to: ‘scaffolds.hits_from_MIL_1.txt’\n",
            "\n",
            "scaffolds.hits_from 100%[===================>] 847.99K  --.-KB/s    in 0.03s   \n",
            "\n",
            "2022-10-19 15:46:53 (28.8 MB/s) - ‘scaffolds.hits_from_MIL_1.txt’ saved [868340/868340]\n",
            "\n"
          ]
        }
      ]
    },
    {
      "cell_type": "code",
      "source": [
        "!wget https://raw.githubusercontent.com/nik-fedorov/hse22_hw2/main/data/scaffolds.hits_from_SwissProt.txt"
      ],
      "metadata": {
        "id": "7ZGyVtAfTopz",
        "colab": {
          "base_uri": "https://localhost:8080/"
        },
        "outputId": "b2c4dc09-ecdb-476a-af89-e5cdc3a76d83"
      },
      "execution_count": 5,
      "outputs": [
        {
          "output_type": "stream",
          "name": "stdout",
          "text": [
            "--2022-10-19 15:46:56--  https://raw.githubusercontent.com/nik-fedorov/hse22_hw2/main/data/scaffolds.hits_from_SwissProt.txt\n",
            "Resolving raw.githubusercontent.com (raw.githubusercontent.com)... 185.199.108.133, 185.199.109.133, 185.199.110.133, ...\n",
            "Connecting to raw.githubusercontent.com (raw.githubusercontent.com)|185.199.108.133|:443... connected.\n",
            "HTTP request sent, awaiting response... 200 OK\n",
            "Length: 66006 (64K) [text/plain]\n",
            "Saving to: ‘scaffolds.hits_from_SwissProt.txt’\n",
            "\n",
            "scaffolds.hits_from 100%[===================>]  64.46K  --.-KB/s    in 0.007s  \n",
            "\n",
            "2022-10-19 15:46:56 (8.85 MB/s) - ‘scaffolds.hits_from_SwissProt.txt’ saved [66006/66006]\n",
            "\n"
          ]
        }
      ]
    },
    {
      "cell_type": "markdown",
      "metadata": {
        "id": "EkEflOHmCHHW"
      },
      "source": [
        "## Скачиваем геном близкородственной бактерии T.oleivorans"
      ]
    },
    {
      "cell_type": "markdown",
      "metadata": {
        "id": "noBYTW1bRH9O"
      },
      "source": [
        "Геном, последовательности генов (нт) и белков (протеом) для бактерии Thalassolituus oleivorans MIL-1\n",
        "https://www.ncbi.nlm.nih.gov/nuccore/HF680312"
      ]
    },
    {
      "cell_type": "code",
      "source": [
        "!sh -c \"$(curl -fsSL ftp://ftp.ncbi.nlm.nih.gov/entrez/entrezdirect/install-edirect.sh)\""
      ],
      "metadata": {
        "id": "bqv3FR5efmk6",
        "colab": {
          "base_uri": "https://localhost:8080/"
        },
        "outputId": "9522faa5-6c8e-4e78-e2c7-830751d5c806"
      },
      "execution_count": 6,
      "outputs": [
        {
          "output_type": "stream",
          "name": "stdout",
          "text": [
            "\n",
            "Entrez Direct has been successfully downloaded and installed.\n",
            "\n",
            "In order to complete the configuration process, please execute the following:\n",
            "\n",
            "  echo \"export PATH=\\${PATH}:/root/edirect\" >> ${HOME}/.bashrc\n",
            "\n",
            "or manually edit the PATH variable assignment in your .bashrc file.\n",
            "\n",
            "Would you like to do that automatically now? [y/N]\n",
            "y\n",
            "OK, done.\n",
            "\n",
            "To activate EDirect for this terminal session, please execute the following:\n",
            "\n",
            "export PATH=${PATH}:${HOME}/edirect\n",
            "\n"
          ]
        }
      ]
    },
    {
      "cell_type": "code",
      "source": [
        "!$HOME/edirect/efetch -db nuccore -id HF680312 -format gb  >  T_oleivorans_MIL_1.gbk"
      ],
      "metadata": {
        "id": "4O3-rUx4fvbw"
      },
      "execution_count": 7,
      "outputs": []
    },
    {
      "cell_type": "code",
      "metadata": {
        "id": "j2uga-mieSB6",
        "colab": {
          "base_uri": "https://localhost:8080/"
        },
        "outputId": "a0ff09d3-2d20-402d-a7bf-0d235744ece5"
      },
      "source": [
        "!pip install biopython"
      ],
      "execution_count": 8,
      "outputs": [
        {
          "output_type": "stream",
          "name": "stdout",
          "text": [
            "Looking in indexes: https://pypi.org/simple, https://us-python.pkg.dev/colab-wheels/public/simple/\n",
            "Collecting biopython\n",
            "  Downloading biopython-1.79-cp37-cp37m-manylinux_2_17_x86_64.manylinux2014_x86_64.whl (2.6 MB)\n",
            "\u001b[K     |████████████████████████████████| 2.6 MB 9.6 MB/s \n",
            "\u001b[?25hRequirement already satisfied: numpy in /usr/local/lib/python3.7/dist-packages (from biopython) (1.21.6)\n",
            "Installing collected packages: biopython\n",
            "Successfully installed biopython-1.79\n"
          ]
        }
      ]
    },
    {
      "cell_type": "markdown",
      "source": [
        "## Аннотация генома"
      ],
      "metadata": {
        "id": "EJIw_JDLUgt5"
      }
    },
    {
      "cell_type": "markdown",
      "source": [
        "Biopython Tutorial: http://biopython.org/DIST/docs/tutorial/Tutorial.html"
      ],
      "metadata": {
        "id": "qhxlclhoYhBh"
      }
    },
    {
      "cell_type": "code",
      "source": [
        "!head -n 20 gms2.lst"
      ],
      "metadata": {
        "id": "G33GF-iGU9Ka",
        "colab": {
          "base_uri": "https://localhost:8080/"
        },
        "outputId": "2a78cfd5-ce40-4e1b-a178-43dfa43784ca"
      },
      "execution_count": 9,
      "outputs": [
        {
          "output_type": "stream",
          "name": "stdout",
          "text": [
            "# GeneMark.hmm-2 LST format\n",
            "# GeneMark.hmm-2 prokaryotic version: 1.25_lic\n",
            "# File with sequence: scaffolds.fasta\n",
            "# File with native parameters: GMS2.mod\n",
            "# Native species name and build: unspecified GeneMarkS-2-1.14_1.25_lic\n",
            "# File with MetaGeneMark parameters: /content/gms2_linux_64/mgm_11.mod\n",
            "# translation table: 11\n",
            "# output date start: Tue Oct 18 19:14:10 2022\n",
            "\n",
            "# sequence-region 1 3875895\n",
            "SequenceID: scaffold1_cov231\n",
            "     1   +   <2    94      93 native\n",
            "     2   +    575    1744    1170 native ACGAGG 7 1\n",
            "     3   +    1747    3315    1569 native AGGGTG 6 1\n",
            "     4   +    3357    3980     624 native AGGGGA 7 1\n",
            "     5   +    3983    6388    2406 native CGGTGA 7 1\n",
            "     6   +    6459    8009    1551 native CGGAGA 5 1\n",
            "     7   +    8015    8788     774 native CGGTGT 9 1\n",
            "     8   +    8800    9243     444 native AAGAGG 7 1\n",
            "     9   +    9243    9902     660 native CTGATT 5 1\n"
          ]
        }
      ]
    },
    {
      "cell_type": "code",
      "metadata": {
        "id": "1hegJvwMIiPe"
      },
      "source": [
        "from Bio import SeqIO\n",
        "\n",
        "scaffolds = {}\n",
        "for record in SeqIO.parse(\"scaffolds.fasta\", \"fasta\"):\n",
        "    record.annotations['molecule_type'] = 'DNA'\n",
        "    scaffolds[record.id] = record"
      ],
      "execution_count": 10,
      "outputs": []
    },
    {
      "cell_type": "markdown",
      "source": [
        "## Добавляем координаты генов и их трансляции"
      ],
      "metadata": {
        "id": "nuikKeO1bL7N"
      }
    },
    {
      "cell_type": "markdown",
      "source": [
        "```\n",
        "SequenceID: scaffold3_cov275\n",
        "  3535   -    30    1001     972 atypical GTCGAG 5 1\n",
        "  3536   -    1350    2192     843 native AAAGTG 7 1\n",
        "  3537   +    2304    2507     204 native GCGGAG 7 1\n",
        "  3538   -    2554    2751     198 native TAAGTA 7 1\n",
        "  3539   +    2855    3265     411 native TCGGTC 6 1\n",
        "```"
      ],
      "metadata": {
        "id": "lR-FjFgRba09"
      }
    },
    {
      "cell_type": "code",
      "source": [
        "from Bio.SeqFeature import SeqFeature, FeatureLocation\n",
        "\n",
        "features = {}\n",
        "for record in SeqIO.parse(\"proteins.fasta\", \"fasta\"):\n",
        "    locus_tag, scaffold, start, end, strand = record.description.split()[:5]\n",
        "    feature = SeqFeature(FeatureLocation(int(start), int(end), strand=int(strand + '1')), type=\"CDS\")\n",
        "    feature.qualifiers['locus_tag'] = [locus_tag]\n",
        "    feature.qualifiers['translation'] = [record.seq]\n",
        "    \n",
        "    features[locus_tag] = feature\n",
        "    scaffolds[scaffold].features.append(feature)"
      ],
      "metadata": {
        "id": "Ukwr8XKrQC-b"
      },
      "execution_count": 11,
      "outputs": []
    },
    {
      "cell_type": "markdown",
      "source": [
        "## Добавляем функции белков (из бактерии MIL-1)"
      ],
      "metadata": {
        "id": "D2UNiwEyet54"
      }
    },
    {
      "cell_type": "markdown",
      "source": [
        "Часть файла scaffolds.hits_from_MIL_1.txt:\n",
        "```\n",
        "3535\tlcl|HF680312.1_prot_CCU72326.1_1877\t99.054\t317\t3\t0\t3\t319\t1\t317\t0.0\t644\n",
        "3535\tlcl|HF680312.1_prot_CCU72392.1_1943\t34.583\t240\t138\t5\t85\t307\t956\t1193\t2.33e-30\t118\n",
        "3535\tlcl|HF680312.1_prot_CCU72759.1_2310\t27.667\t300\t188\t8\t8\t302\t709\t984\t1.02e-24\t101\n",
        "3535\tlcl|HF680312.1_prot_CCU70543.1_94\t42.857\t126\t71\t1\t79\t204\t798\t922\t5.63e-24\t99.4\n",
        "3535\tlcl|HF680312.1_prot_CCU70690.1_241\t26.140\t329\t205\t10\t2\t303\t591\t908\t6.26e-23\t96.7\n",
        "3535\tlcl|HF680312.1_prot_CCU74013.1_3564\t38.462\t130\t76\t3\t91\t219\t685\t811\t4.96e-20\t87.8\n",
        "3535\tlcl|HF680312.1_prot_CCU71475.1_1026\t36.522\t115\t71\t2\t86\t200\t555\t667\t2.19e-16\t76.6\n",
        "3535\tlcl|HF680312.1_prot_CCU71362.1_913\t24.535\t269\t187\t3\t52\t306\t633\t899\t2.61e-14\t70.5\n",
        "3535\tlcl|HF680312.1_prot_CCU70724.1_275\t30.534\t131\t81\t3\t78\t205\t1983\t2106\t6.54e-13\t66.2\n",
        "3535\tlcl|HF680312.1_prot_CCU70719.1_270\t26.087\t115\t83\t1\t90\t204\t15\t127\t9.14e-12\t58.5\n",
        "3535\tlcl|HF680312.1_prot_CCU72006.1_1557\t35.652\t115\t68\t3\t87\t200\t421\t530\t1.06e-11\t62.0\n",
        "3535\tlcl|HF680312.1_prot_CCU72513.1_2064\t33.628\t113\t72\t1\t91\t200\t766\t878\t1.22e-11\t62.4\n",
        "3536\tlcl|HF680312.1_prot_CCU72327.1_1878\t100.000\t280\t0\t0\t1\t280\t1\t280\t0.0\t570\n",
        "3536\tlcl|HF680312.1_prot_CCU72858.1_2409\t27.437\t277\t181\t4\t10\t272\t1\t271\t1.82e-26\t101\n",
        "3537\tlcl|HF680312.1_prot_CCU72328.1_1879\t100.000\t67\t0\t0\t1\t67\t1\t67\t9.75e-44\t132\n",
        "```"
      ],
      "metadata": {
        "id": "tCFpL_GLfDzJ"
      }
    },
    {
      "cell_type": "markdown",
      "source": [
        "Строим маппинг тегов локусов, для которых нашлись аннотации в MIL_1, в самый вероятный note."
      ],
      "metadata": {
        "id": "kO9lUWyyCfw0"
      }
    },
    {
      "cell_type": "code",
      "source": [
        "tag_to_note = {}\n",
        "tag_to_min_evalue = {}\n",
        "with open('scaffolds.hits_from_MIL_1.txt') as file:\n",
        "    for line in file:\n",
        "        locus_tag = line.split()[0]\n",
        "        note = line.split()[1].split('_')[2]\n",
        "        evalue = float(line.split()[-2])\n",
        "\n",
        "        if locus_tag in tag_to_note:\n",
        "            if evalue < tag_to_min_evalue[locus_tag]:\n",
        "                tag_to_note[locus_tag] = note\n",
        "                tag_to_min_evalue[locus_tag] = evalue\n",
        "        else:\n",
        "            tag_to_note[locus_tag] = note\n",
        "            tag_to_min_evalue[locus_tag] = evalue"
      ],
      "metadata": {
        "id": "PtZwg_mq8DkI"
      },
      "execution_count": 17,
      "outputs": []
    },
    {
      "cell_type": "markdown",
      "source": [
        "Строим маппинг этих же тегов в функции соответствующих белков. "
      ],
      "metadata": {
        "id": "oliWVyCUCz63"
      }
    },
    {
      "cell_type": "code",
      "source": [
        "mil_1_genome = SeqIO.read(\"/content/T_oleivorans_MIL_1.gbk\", \"genbank\")"
      ],
      "metadata": {
        "id": "MxKSgTvihLIY"
      },
      "execution_count": 18,
      "outputs": []
    },
    {
      "cell_type": "code",
      "metadata": {
        "id": "4EDCGDdmZt8O"
      },
      "source": [
        "tag_to_product = {}\n",
        "for  mil_f in mil_1_genome.features:\n",
        "    if 'protein_id' not in mil_f.qualifiers:\n",
        "        continue\n",
        "\n",
        "    for tag, note in tag_to_note.items():\n",
        "        if note == mil_f.qualifiers['protein_id'][0]:\n",
        "            tag_to_product[tag] = mil_f.qualifiers['product']"
      ],
      "execution_count": 19,
      "outputs": []
    },
    {
      "cell_type": "markdown",
      "source": [
        "Добавляем извлеченные данные в наши фичи."
      ],
      "metadata": {
        "id": "dOWmA41DDAOm"
      }
    },
    {
      "cell_type": "code",
      "source": [
        "for tag, note in tag_to_note.items():\n",
        "    features[tag].qualifiers['note'] = [note]\n",
        "    if tag in tag_to_product:\n",
        "        features[tag].qualifiers['product'] = tag_to_product[tag]"
      ],
      "metadata": {
        "id": "DBRYJprIBuHS"
      },
      "execution_count": 20,
      "outputs": []
    },
    {
      "cell_type": "markdown",
      "source": [
        "## Добавляем функции белков (из БД SwissProt)"
      ],
      "metadata": {
        "id": "Pr5GctSQxlsQ"
      }
    },
    {
      "cell_type": "markdown",
      "source": [
        "Читаем информацию из файла scaffolds.hits_from_SwissProt.txt"
      ],
      "metadata": {
        "id": "xLafv2r8xo6P"
      }
    },
    {
      "cell_type": "markdown",
      "source": [
        "product = 'Similar to SwissProt protein Y1178_METJA (E-value = 2.95e-28)'"
      ],
      "metadata": {
        "id": "UykENPFgyIQu"
      }
    },
    {
      "cell_type": "markdown",
      "source": [
        "Получить функции белков SwissProt из файла: https://ftp.uniprot.org/pub/databases/uniprot/current_release/knowledgebase/complete/uniprot_sprot.dat.gz"
      ],
      "metadata": {
        "id": "HWWUeHCdyAdb"
      }
    },
    {
      "cell_type": "code",
      "source": [
        "!wget https://ftp.uniprot.org/pub/databases/uniprot/current_release/knowledgebase/complete/uniprot_sprot.dat.gz"
      ],
      "metadata": {
        "colab": {
          "base_uri": "https://localhost:8080/"
        },
        "id": "tTRJ0KfnWIdt",
        "outputId": "2e2a227a-8a4a-4c55-a8f1-b1f76ce437a7"
      },
      "execution_count": 21,
      "outputs": [
        {
          "output_type": "stream",
          "name": "stdout",
          "text": [
            "--2022-10-19 16:21:39--  https://ftp.uniprot.org/pub/databases/uniprot/current_release/knowledgebase/complete/uniprot_sprot.dat.gz\n",
            "Resolving ftp.uniprot.org (ftp.uniprot.org)... 128.175.240.195\n",
            "Connecting to ftp.uniprot.org (ftp.uniprot.org)|128.175.240.195|:443... connected.\n",
            "HTTP request sent, awaiting response... 200 OK\n",
            "Length: 642093634 (612M) [application/x-gzip]\n",
            "Saving to: ‘uniprot_sprot.dat.gz’\n",
            "\n",
            "uniprot_sprot.dat.g 100%[===================>] 612.35M  27.5MB/s    in 17s     \n",
            "\n",
            "2022-10-19 16:21:57 (35.7 MB/s) - ‘uniprot_sprot.dat.gz’ saved [642093634/642093634]\n",
            "\n"
          ]
        }
      ]
    },
    {
      "cell_type": "code",
      "source": [
        "!gzip -d uniprot_sprot.dat.gz"
      ],
      "metadata": {
        "id": "_7n4ZxdjWPxH"
      },
      "execution_count": 22,
      "outputs": []
    },
    {
      "cell_type": "code",
      "source": [
        "!head -20 uniprot_sprot.dat"
      ],
      "metadata": {
        "colab": {
          "base_uri": "https://localhost:8080/"
        },
        "id": "pxxHBK6Gs3ro",
        "outputId": "8be24b54-66b0-4315-e46d-a2540f294625"
      },
      "execution_count": 24,
      "outputs": [
        {
          "output_type": "stream",
          "name": "stdout",
          "text": [
            "ID   001R_FRG3G              Reviewed;         256 AA.\n",
            "AC   Q6GZX4;\n",
            "DT   28-JUN-2011, integrated into UniProtKB/Swiss-Prot.\n",
            "DT   19-JUL-2004, sequence version 1.\n",
            "DT   02-JUN-2021, entry version 42.\n",
            "DE   RecName: Full=Putative transcription factor 001R;\n",
            "GN   ORFNames=FV3-001R;\n",
            "OS   Frog virus 3 (isolate Goorha) (FV-3).\n",
            "OC   Viruses; Varidnaviria; Bamfordvirae; Nucleocytoviricota; Megaviricetes;\n",
            "OC   Pimascovirales; Iridoviridae; Alphairidovirinae; Ranavirus.\n",
            "OX   NCBI_TaxID=654924;\n",
            "OH   NCBI_TaxID=30343; Dryophytes versicolor (chameleon treefrog).\n",
            "OH   NCBI_TaxID=8404; Lithobates pipiens (Northern leopard frog) (Rana pipiens).\n",
            "OH   NCBI_TaxID=45438; Lithobates sylvaticus (Wood frog) (Rana sylvatica).\n",
            "OH   NCBI_TaxID=8316; Notophthalmus viridescens (Eastern newt) (Triturus viridescens).\n",
            "RN   [1]\n",
            "RP   NUCLEOTIDE SEQUENCE [LARGE SCALE GENOMIC DNA].\n",
            "RX   PubMed=15165820; DOI=10.1016/j.virol.2004.02.019;\n",
            "RA   Tan W.G., Barkman T.J., Gregory Chinchar V., Essani K.;\n",
            "RT   \"Comparative genomic analyses of frog virus 3, type species of the genus\n"
          ]
        }
      ]
    },
    {
      "cell_type": "markdown",
      "source": [
        "По базе Uniprot строим маппинг имен белков в их функции."
      ],
      "metadata": {
        "id": "Ja0A7ShqDT2i"
      }
    },
    {
      "cell_type": "code",
      "source": [
        "protname_to_product = {}\n",
        "with open('uniprot_sprot.dat') as file:\n",
        "    for line in file:\n",
        "        if line[:2] == 'ID':\n",
        "            protname = line.split()[1]\n",
        "        if line.startswith('DE   RecName: Full='):\n",
        "            protname_to_product[protname] = line.split('=')[1][:-2]"
      ],
      "metadata": {
        "id": "ypfk82dlDTfi"
      },
      "execution_count": 34,
      "outputs": []
    },
    {
      "cell_type": "markdown",
      "source": [
        "Строим маппин тегов локусов, для которых нашлись аннотации в Uniprot, в имена наиболее вероятных белков."
      ],
      "metadata": {
        "id": "WZ9b4XGjFff5"
      }
    },
    {
      "cell_type": "code",
      "source": [
        "tag_to_protname = {}\n",
        "tag_to_min_evalue = {}\n",
        "with open('scaffolds.hits_from_SwissProt.txt') as file:\n",
        "    for line in file:\n",
        "        locus_tag = line.split()[0]\n",
        "        protname = line.split()[1].split('|')[-1]\n",
        "        evalue = float(line.split()[-2])\n",
        "\n",
        "        if locus_tag in tag_to_protname:\n",
        "            if evalue < tag_to_min_evalue[locus_tag]:\n",
        "                tag_to_protname[locus_tag] = protname\n",
        "                tag_to_min_evalue[locus_tag] = evalue\n",
        "        else:\n",
        "            tag_to_protname[locus_tag] = protname\n",
        "            tag_to_min_evalue[locus_tag] = evalue"
      ],
      "metadata": {
        "id": "xWEcBuArFZhp"
      },
      "execution_count": 25,
      "outputs": []
    },
    {
      "cell_type": "markdown",
      "source": [
        "Добавляем в наши фичи по этим тегам функции соответствующих белков. "
      ],
      "metadata": {
        "id": "syxQdDIFG1Hb"
      }
    },
    {
      "cell_type": "code",
      "source": [
        "success, fail = 0, 0\n",
        "for tag, protname in tag_to_protname.items():\n",
        "    features[tag].qualifiers['product'] = [protname_to_product[protname]]"
      ],
      "metadata": {
        "id": "1sB7sgB_G1km"
      },
      "execution_count": 44,
      "outputs": []
    },
    {
      "cell_type": "markdown",
      "source": [
        "Записываем результат аннотирования в файл формата .gbk"
      ],
      "metadata": {
        "id": "wKRN2MPNM_-R"
      }
    },
    {
      "cell_type": "code",
      "source": [
        "SeqIO.write(list(scaffolds.values()), \"GENOME.gbk\", \"genbank\")"
      ],
      "metadata": {
        "colab": {
          "base_uri": "https://localhost:8080/"
        },
        "id": "TFeeqc0HMPUK",
        "outputId": "8a46b6c1-adb4-4677-94a4-2b81d733ca80"
      },
      "execution_count": 54,
      "outputs": [
        {
          "output_type": "execute_result",
          "data": {
            "text/plain": [
              "71"
            ]
          },
          "metadata": {},
          "execution_count": 54
        }
      ]
    }
  ]
}